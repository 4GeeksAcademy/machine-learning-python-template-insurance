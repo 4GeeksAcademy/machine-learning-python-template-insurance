{
 "cells": [
  {
   "cell_type": "code",
   "execution_count": 1,
   "metadata": {},
   "outputs": [],
   "source": [
    "import os\n",
    "import pandas as pd\n",
    "\n",
    "# Extraer datos\n",
    "\n",
    "BASE_PATH = \"../data/processed\"\n",
    "TRAIN_PATHS = [\n",
    "    \"X_train_con_outliers.xlsx\",\n",
    "    \"X_train_sin_outliers.xlsx\",\n",
    "    \"X_train_con_outliers_norm_standard.xlsx\",\n",
    "    \"X_train_sin_outliers_norm_standard.xlsx\",\n",
    "    \"X_train_con_outliers_norm_minmax.xlsx\",\n",
    "    \"X_train_sin_outliers_norm_minmax.xlsx\"\n",
    "]\n",
    "\n",
    "TRAIN_DATASETS = []\n",
    "for path in TRAIN_PATHS:\n",
    "    TRAIN_DATASETS.append(\n",
    "        # pd.read_excel(BASE_PATH + \"/\" + path)\n",
    "        pd.read_excel(f\"{BASE_PATH}/{path}\")\n",
    "        # pd.read_excel(os.path.join(BASE_PATH, path))\n",
    "    )\n",
    "\n",
    "TEST_PATHS = [\n",
    "    \"X_test_con_outliers.xlsx\",\n",
    "    \"X_test_sin_outliers.xlsx\",\n",
    "    \"X_test_con_outliers_norm_standard.xlsx\",\n",
    "    \"X_test_sin_outliers_norm_standard.xlsx\",\n",
    "    \"X_test_con_outliers_norm_minmax.xlsx\",\n",
    "    \"X_test_sin_outliers_norm_minmax.xlsx\"\n",
    "]\n",
    "\n",
    "TEST_DATASETS = []\n",
    "for path in TEST_PATHS:\n",
    "    TEST_DATASETS.append(\n",
    "        pd.read_excel(f\"{BASE_PATH}/{path}\")\n",
    "    )\n",
    "\n",
    "y_train = pd.read_excel(f\"{BASE_PATH}/y_train.xlsx\")\n",
    "y_test = pd.read_excel(f\"{BASE_PATH}/y_test.xlsx\")"
   ]
  },
  {
   "cell_type": "code",
   "execution_count": 11,
   "metadata": {},
   "outputs": [
    {
     "name": "stdout",
     "output_type": "stream",
     "text": [
      "0\n",
      "Intercepto (a): [11291.59075256]\n",
      "Coeficientes (b): [[   248.76407134    312.60904469    534.12087654    -99.69539417\n",
      "  -23052.15275173    237.62514748]]\n",
      "1\n",
      "Intercepto (a): [-6305.63243055]\n",
      "Coeficientes (b): [[ 225.1019077   284.6579706   684.95952838 1449.18314698    0.\n",
      "   227.3917793 ]]\n",
      "2\n",
      "Intercepto (a): [13030.20336929]\n",
      "Coeficientes (b): [[ 3480.71806706  1890.9752842    637.82776712   -49.82673307\n",
      "  -9224.0941585    262.2899979 ]]\n",
      "3\n",
      "Intercepto (a): [13030.20336929]\n",
      "Coeficientes (b): [[3149.63600987 1708.00521467  817.95381111  724.28683831    0.\n",
      "   250.99443366]]\n",
      "4\n",
      "Intercepto (a): [20758.58438991]\n",
      "Coeficientes (b): [[ 11443.14728148  11619.67819122   2670.60438271    -99.69539417\n",
      "  -23052.15275173    712.87544245]]\n",
      "5\n",
      "Intercepto (a): [2289.34311877]\n",
      "Coeficientes (b): [[10354.68775398  8925.45066822  3424.79764192  1449.18314698\n",
      "      0.           682.17533791]]\n",
      "[{'train': 0.7297182858804965, 'test': 0.8068466322629111}, {'train': 0.11387721167135234, 'test': 0.14067293200683983}, {'train': 0.7297182858804965, 'test': 0.8068466322629111}, {'train': 0.11387721167135234, 'test': 0.14067293200683983}, {'train': 0.7297182858804965, 'test': 0.8068466322629113}, {'train': 0.11387721167135234, 'test': 0.14067293200683983}]\n"
     ]
    }
   ],
   "source": [
    "from sklearn.linear_model import LinearRegression\n",
    "from sklearn.metrics import mean_absolute_error, r2_score\n",
    "\n",
    "# crea el modelo, entrena el modelo, guardas el target de train y de test. Sacar la precisión para comparar cual es el mejor de todos\n",
    "results_mae = []\n",
    "results_r2_score = []\n",
    "for index, dataset in enumerate(TRAIN_DATASETS):\n",
    "    print(index)\n",
    "    model = LinearRegression()\n",
    "    model.fit(dataset, y_train)\n",
    "    print(f\"Intercepto (a): {model.intercept_}\")\n",
    "    print(f\"Coeficientes (b): {model.coef_}\")\n",
    "    y_pred_train = model.predict(dataset)   # x_train\n",
    "    y_pred_test = model.predict(TEST_DATASETS[index])   # x_text\n",
    "\n",
    "    results_mae.append(\n",
    "        {\n",
    "            \"train\": mean_absolute_error(y_train, y_pred_train),\n",
    "            \"test\": mean_absolute_error(y_test, y_pred_test)\n",
    "        }\n",
    "    )\n",
    "    results_r2_score.append(\n",
    "        {\n",
    "            \"train\": r2_score(y_train, y_pred_train),\n",
    "            \"test\": r2_score(y_test, y_pred_test)\n",
    "        }\n",
    "        )\n",
    "    # print tiempo que ha tardado\n",
    "results_mae\n",
    "print(results_r2_score)"
   ]
  },
  {
   "cell_type": "markdown",
   "metadata": {},
   "source": [
    "En es te modelo no se puede hacer hiperparametrización. Se observan unos valores aceptables para el modelo."
   ]
  }
 ],
 "metadata": {
  "kernelspec": {
   "display_name": "Python 3",
   "language": "python",
   "name": "python3"
  },
  "language_info": {
   "codemirror_mode": {
    "name": "ipython",
    "version": 3
   },
   "file_extension": ".py",
   "mimetype": "text/x-python",
   "name": "python",
   "nbconvert_exporter": "python",
   "pygments_lexer": "ipython3",
   "version": "3.13.1"
  }
 },
 "nbformat": 4,
 "nbformat_minor": 2
}
